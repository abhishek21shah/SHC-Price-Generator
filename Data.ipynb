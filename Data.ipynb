{
  "nbformat": 4,
  "nbformat_minor": 0,
  "metadata": {
    "colab": {
      "name": "I1_Data",
      "provenance": [],
      "collapsed_sections": [
        "EhRf4MbitGGz"
      ],
      "toc_visible": true
    },
    "kernelspec": {
      "name": "python3",
      "display_name": "Python 3"
    }
  },
  "cells": [
    {
      "cell_type": "code",
      "metadata": {
        "id": "1iZKOwsAbUeF",
        "colab": {
          "base_uri": "https://localhost:8080/"
        },
        "outputId": "eadc03b9-9d7d-48b0-b815-22c927620e39"
      },
      "source": [
        "from google.colab import drive\n",
        "drive.mount('/content/drive', force_remount=True)"
      ],
      "execution_count": null,
      "outputs": [
        {
          "output_type": "stream",
          "text": [
            "Mounted at /content/drive\n"
          ],
          "name": "stdout"
        }
      ]
    },
    {
      "cell_type": "markdown",
      "metadata": {
        "id": "EhRf4MbitGGz"
      },
      "source": [
        "# Merge files and drop duplictes \n",
        "\n"
      ]
    },
    {
      "cell_type": "code",
      "metadata": {
        "id": "e7frVck8bnEQ"
      },
      "source": [
        "import pandas as pd"
      ],
      "execution_count": null,
      "outputs": []
    },
    {
      "cell_type": "code",
      "metadata": {
        "id": "patZrjmMclo1"
      },
      "source": [
        "dfs = []\n",
        "vinted_data = '/content/drive/My Drive/FYDP/Prototype - I1/vinted_data.csv'\n",
        "frame = pd.read_csv(vinted_data)\n",
        "dfs.append(frame)\n",
        "\n",
        "import glob\n",
        "path_add_data = r'/content/drive/My Drive/FYDP/Prototype - I1/Additional data'\n",
        "all_files = glob.glob(path_add_data + \"/*.csv\")\n",
        "\n",
        "for filename in all_files:\n",
        "    frame = pd.read_csv(filename)\n",
        "    dfs.append(frame)\n",
        "\n",
        "df = pd.concat(dfs, axis=0, ignore_index=True)"
      ],
      "execution_count": null,
      "outputs": []
    },
    {
      "cell_type": "code",
      "metadata": {
        "id": "ClVrWxdkS55k",
        "colab": {
          "base_uri": "https://localhost:8080/"
        },
        "outputId": "81ea0272-93c9-4238-bf70-6f1296c309a8"
      },
      "source": [
        "df = df.sort_values(by=['product-link-href'])\n",
        "print(df.info())\n",
        "df.nunique()"
      ],
      "execution_count": null,
      "outputs": [
        {
          "output_type": "stream",
          "text": [
            "<class 'pandas.core.frame.DataFrame'>\n",
            "Int64Index: 10034 entries, 974 to 7214\n",
            "Data columns (total 15 columns):\n",
            " #   Column                 Non-Null Count  Dtype \n",
            "---  ------                 --------------  ----- \n",
            " 0   web-scraper-order      10034 non-null  object\n",
            " 1   web-scraper-start-url  10034 non-null  object\n",
            " 2   product-link           1 non-null      object\n",
            " 3   product-link-href      10034 non-null  object\n",
            " 4   title                  10034 non-null  object\n",
            " 5   brand                  9740 non-null   object\n",
            " 6   price                  10034 non-null  object\n",
            " 7   size                   9982 non-null   object\n",
            " 8   condition              10034 non-null  object\n",
            " 9   colour                 10034 non-null  object\n",
            " 10  category-1             10034 non-null  object\n",
            " 11  category-2             10032 non-null  object\n",
            " 12  category-3             9758 non-null   object\n",
            " 13  category-4             2895 non-null   object\n",
            " 14  category               10034 non-null  object\n",
            "dtypes: object(15)\n",
            "memory usage: 1.2+ MB\n",
            "None\n"
          ],
          "name": "stdout"
        },
        {
          "output_type": "execute_result",
          "data": {
            "text/plain": [
              "web-scraper-order        10034\n",
              "web-scraper-start-url      429\n",
              "product-link                 1\n",
              "product-link-href         8775\n",
              "title                     8178\n",
              "brand                     1938\n",
              "price                      316\n",
              "size                        69\n",
              "condition                    5\n",
              "colour                     286\n",
              "category-1                  21\n",
              "category-2                 195\n",
              "category-3                3654\n",
              "category-4                1719\n",
              "category                     4\n",
              "dtype: int64"
            ]
          },
          "metadata": {
            "tags": []
          },
          "execution_count": 4
        }
      ]
    },
    {
      "cell_type": "code",
      "metadata": {
        "id": "hWMcf9rTg4FN",
        "colab": {
          "base_uri": "https://localhost:8080/"
        },
        "outputId": "0a989987-8145-4123-ac5b-c31c39e97cb9"
      },
      "source": [
        "# drop unncessary columns\n",
        "drop_cols = ['web-scraper-order','web-scraper-start-url', 'product-link', \\\n",
        "             'category-4', 'category-3', 'category-2', 'title']\n",
        "\n",
        "# drop 'product-link-href' later as it will be used to find duplicates\n",
        "df = df.drop(columns = drop_cols)\n",
        "print(df.shape)\n",
        "\n",
        "df = df.rename(columns={\"category\": \"gender\"})\n",
        "df['gender'] = df['gender'].str.lower()\n",
        "df['price'] = df['price'].str.replace('$', '').str.replace(',', '') # remove any non digit characters\n",
        "df['price'] = df['price'].astype(float) # convert to decimal\n",
        "list(df.columns)"
      ],
      "execution_count": null,
      "outputs": [
        {
          "output_type": "stream",
          "text": [
            "(10034, 8)\n"
          ],
          "name": "stdout"
        },
        {
          "output_type": "execute_result",
          "data": {
            "text/plain": [
              "['product-link-href',\n",
              " 'brand',\n",
              " 'price',\n",
              " 'size',\n",
              " 'condition',\n",
              " 'colour',\n",
              " 'category-1',\n",
              " 'gender']"
            ]
          },
          "metadata": {
            "tags": []
          },
          "execution_count": 5
        }
      ]
    },
    {
      "cell_type": "code",
      "metadata": {
        "id": "ET7ceAPIekK6",
        "colab": {
          "base_uri": "https://localhost:8080/"
        },
        "outputId": "4f1d64ee-08dc-404d-9233-432eca81182b"
      },
      "source": [
        "print(df[df.duplicated(subset = ['product-link-href', 'brand'],keep=False)])#.sort_values(by=['product-link-href']) \n",
        "# There are 2360 duplicates, but some items are repeated 3 times\n",
        "df = df.drop_duplicates(subset=['product-link-href']) # there are 8775 unique product-link-href as listed in the earlier cell\n",
        "df = df.drop(columns=['product-link-href']) \n",
        "print(df.shape) # should return (8775, 7)\n",
        "# Write merged file to google drive\n",
        "df.to_csv('merged_data.csv', index=False)\n",
        "!cp merged_data.csv \"drive/My Drive/FYDP/Prototype - I1/\""
      ],
      "execution_count": null,
      "outputs": [
        {
          "output_type": "stream",
          "text": [
            "                                      product-link-href  ... gender\n",
            "3615  https://www.vinted.com/men/bomber-jackets/2823...  ...    men\n",
            "6609  https://www.vinted.com/men/bomber-jackets/2823...  ...    men\n",
            "6588  https://www.vinted.com/men/bomber-jackets/2823...  ...    men\n",
            "4495  https://www.vinted.com/men/bomber-jackets/2823...  ...    men\n",
            "6499  https://www.vinted.com/men/bomber-jackets/2824...  ...    men\n",
            "...                                                 ...  ...    ...\n",
            "1156  https://www.vinted.com/women/winter-coats/2828...  ...  women\n",
            "405   https://www.vinted.com/women/winter-coats/2828...  ...  women\n",
            "6287  https://www.vinted.com/women/winter-coats/2828...  ...  women\n",
            "6114  https://www.vinted.com/women/winter-coats/2829...  ...  women\n",
            "612   https://www.vinted.com/women/winter-coats/2829...  ...  women\n",
            "\n",
            "[2360 rows x 8 columns]\n",
            "(8775, 7)\n"
          ],
          "name": "stdout"
        }
      ]
    },
    {
      "cell_type": "markdown",
      "metadata": {
        "id": "YbuZlhmrtTGW"
      },
      "source": [
        "# Clean merged data and output model file"
      ]
    },
    {
      "cell_type": "code",
      "metadata": {
        "id": "ndAysqZtfv0H",
        "colab": {
          "base_uri": "https://localhost:8080/",
          "height": 385
        },
        "outputId": "f7d901a5-a946-42f1-a57d-90562188b308"
      },
      "source": [
        "import pandas as pd\n",
        "merged_file = '/content/drive/My Drive/FYDP/Prototype - I1/merged_data.csv'\n",
        "df = pd.read_csv(merged_file)\n",
        "print(df.head())\n",
        "print(df.shape)\n",
        "\n",
        "# percentage of nulls in the table\n",
        "null_values = df.isnull().sum()\n",
        "null_values = pd.DataFrame(null_values, columns=['null'])\n",
        "sum_tot = len(df)\n",
        "null_values['percent'] = round(null_values['null']/sum_tot*100, 3)\n",
        "null_values['unique'] = df.nunique()\n",
        "null_values.sort_values('percent', ascending=False)"
      ],
      "execution_count": null,
      "outputs": [
        {
          "output_type": "stream",
          "text": [
            "          brand  price size      condition       colour category-1 gender\n",
            "0           DAY   20.0  NaN  New with tags  black, blue      Other  women\n",
            "1  Under Armour   10.0  NaN  New with tags        black      Other  women\n",
            "2     hyperknit    6.0  NaN  New with tags          red      Other  women\n",
            "3       Raiders   25.0  NaN  New with tags        black      Other  women\n",
            "4        Schutt   30.0  NaN  New with tags   red, white      Other  women\n",
            "(8775, 7)\n"
          ],
          "name": "stdout"
        },
        {
          "output_type": "execute_result",
          "data": {
            "text/html": [
              "<div>\n",
              "<style scoped>\n",
              "    .dataframe tbody tr th:only-of-type {\n",
              "        vertical-align: middle;\n",
              "    }\n",
              "\n",
              "    .dataframe tbody tr th {\n",
              "        vertical-align: top;\n",
              "    }\n",
              "\n",
              "    .dataframe thead th {\n",
              "        text-align: right;\n",
              "    }\n",
              "</style>\n",
              "<table border=\"1\" class=\"dataframe\">\n",
              "  <thead>\n",
              "    <tr style=\"text-align: right;\">\n",
              "      <th></th>\n",
              "      <th>null</th>\n",
              "      <th>percent</th>\n",
              "      <th>unique</th>\n",
              "    </tr>\n",
              "  </thead>\n",
              "  <tbody>\n",
              "    <tr>\n",
              "      <th>brand</th>\n",
              "      <td>258</td>\n",
              "      <td>2.940</td>\n",
              "      <td>1938</td>\n",
              "    </tr>\n",
              "    <tr>\n",
              "      <th>size</th>\n",
              "      <td>39</td>\n",
              "      <td>0.444</td>\n",
              "      <td>69</td>\n",
              "    </tr>\n",
              "    <tr>\n",
              "      <th>price</th>\n",
              "      <td>0</td>\n",
              "      <td>0.000</td>\n",
              "      <td>233</td>\n",
              "    </tr>\n",
              "    <tr>\n",
              "      <th>condition</th>\n",
              "      <td>0</td>\n",
              "      <td>0.000</td>\n",
              "      <td>5</td>\n",
              "    </tr>\n",
              "    <tr>\n",
              "      <th>colour</th>\n",
              "      <td>0</td>\n",
              "      <td>0.000</td>\n",
              "      <td>286</td>\n",
              "    </tr>\n",
              "    <tr>\n",
              "      <th>category-1</th>\n",
              "      <td>0</td>\n",
              "      <td>0.000</td>\n",
              "      <td>21</td>\n",
              "    </tr>\n",
              "    <tr>\n",
              "      <th>gender</th>\n",
              "      <td>0</td>\n",
              "      <td>0.000</td>\n",
              "      <td>2</td>\n",
              "    </tr>\n",
              "  </tbody>\n",
              "</table>\n",
              "</div>"
            ],
            "text/plain": [
              "            null  percent  unique\n",
              "brand        258    2.940    1938\n",
              "size          39    0.444      69\n",
              "price          0    0.000     233\n",
              "condition      0    0.000       5\n",
              "colour         0    0.000     286\n",
              "category-1     0    0.000      21\n",
              "gender         0    0.000       2"
            ]
          },
          "metadata": {
            "tags": []
          },
          "execution_count": 7
        }
      ]
    },
    {
      "cell_type": "code",
      "metadata": {
        "id": "POV2cQpCf9Py",
        "colab": {
          "base_uri": "https://localhost:8080/"
        },
        "outputId": "de313a71-0143-4247-b33c-37d0c9f392bb"
      },
      "source": [
        "columns = ['colour', 'size', 'brand','category-1','condition',]\n",
        "#for cols in df.columns:\n",
        "for cols in columns:\n",
        "  print(cols, df[cols].nunique())"
      ],
      "execution_count": null,
      "outputs": [
        {
          "output_type": "stream",
          "text": [
            "colour 286\n",
            "size 69\n",
            "brand 1938\n",
            "category-1 21\n",
            "condition 5\n"
          ],
          "name": "stdout"
        }
      ]
    },
    {
      "cell_type": "code",
      "metadata": {
        "id": "_xuuu5D65wSA",
        "colab": {
          "base_uri": "https://localhost:8080/"
        },
        "outputId": "aeb67511-a3bb-4930-ec95-c67e0c5b566c"
      },
      "source": [
        "# colour\n",
        "df['colour'] = df['colour'].str.split(',').str[0]\n",
        "#print(df['colour'].value_counts())\n",
        "\n",
        "df['colour'] = df['colour'].replace(['navy','turquoise','light blue', 'dark blue'],'blue')\n",
        "df['colour'] = df['colour'].replace(['dark green','mint','light green'],'green')\n",
        "df['colour'] = df['colour'].replace(['khaki'],'brown')\n",
        "df['colour'] = df['colour'].replace(['apricot', 'coral'],'orange')\n",
        "df['colour'] = df['colour'].replace(['mustard'],'yellow')\n",
        "df['colour'] = df['colour'].replace(['burgundy'],'red')\n",
        "df['colour'] = df['colour'].replace(['rose'],'pink')\n",
        "df['colour'] = df['colour'].replace(['lilac'],'purple')\n",
        "df['colour'] = df['colour'].replace(['cream','gold','silver', 'various'],'other')\n",
        "print(df['colour'].value_counts())"
      ],
      "execution_count": null,
      "outputs": [
        {
          "output_type": "stream",
          "text": [
            "black     2437\n",
            "blue      1850\n",
            "gray       951\n",
            "red        601\n",
            "white      421\n",
            "pink       420\n",
            "green      411\n",
            "brown      403\n",
            "other      381\n",
            "beige      330\n",
            "purple     217\n",
            "yellow     188\n",
            "orange     165\n",
            "Name: colour, dtype: int64\n"
          ],
          "name": "stdout"
        }
      ]
    },
    {
      "cell_type": "code",
      "metadata": {
        "id": "XjxEo28SQL59",
        "colab": {
          "base_uri": "https://localhost:8080/"
        },
        "outputId": "f6e73d12-f1ec-41b2-e3fa-362c49abc59e"
      },
      "source": [
        "# sizes - we'll only keep S, M, L\n",
        "df['size'] = df['size'].fillna('Other')\n",
        "\n",
        "df.loc[df['size'].str.contains('S', case=False), 'size'] = 'S'\n",
        "df.loc[df['size'].str.contains('petite', case=False), 'size'] = 'S'\n",
        "df.loc[df['size'].str.contains('M', case=False), 'size'] = 'M'\n",
        "df.loc[df['size'].str.contains('L', case=False), 'size'] = 'L'\n",
        "df.loc[df['size'].str.contains('X', case=False), 'size'] = 'L'\n",
        "\n",
        "all_sizes = df['size'].unique().tolist()\n",
        "wanted_sizes = ['S', 'M', 'L']\n",
        "unwanted_sizes = list(set(all_sizes).difference(set(wanted_sizes)))\n",
        "df['size'] = df['size'].replace({x:'Other' for x in unwanted_sizes}) \n",
        "df.drop(df.loc[df['size']=='Other'].index, inplace=True)\n",
        "\n",
        "df['size'].value_counts()"
      ],
      "execution_count": null,
      "outputs": [
        {
          "output_type": "execute_result",
          "data": {
            "text/plain": [
              "S    3324\n",
              "L    2954\n",
              "M    2332\n",
              "Name: size, dtype: int64"
            ]
          },
          "metadata": {
            "tags": []
          },
          "execution_count": 10
        }
      ]
    },
    {
      "cell_type": "code",
      "metadata": {
        "id": "MMoi8RwOSVB1",
        "colab": {
          "base_uri": "https://localhost:8080/"
        },
        "outputId": "038b5b9c-4dc2-4658-90d9-b89957e21e8c"
      },
      "source": [
        "# brand\n",
        "df['brand'] = df['brand'].fillna('Other')\n",
        "\n",
        "val = df['brand'].value_counts()\n",
        "y = val[val < 20].index\n",
        "df['brand'] = df['brand'].replace({x:'Other' for x in y})\n",
        "# df['brand'].value_counts()\n",
        "df['brand'].value_counts().nlargest(15)"
      ],
      "execution_count": null,
      "outputs": [
        {
          "output_type": "execute_result",
          "data": {
            "text/plain": [
              "Other                        4179\n",
              "UNKNOWN                       542\n",
              "Forever 21                    255\n",
              "Nike                          240\n",
              "Vintage                       221\n",
              "Old Navy                      170\n",
              "American Eagle                146\n",
              "Levi's                        139\n",
              "Adidas                        125\n",
              "H&M                           123\n",
              "Pink                          105\n",
              "Free People                    92\n",
              "American Eagle Outfitters      92\n",
              "Zara                           89\n",
              "EXPRESS                        87\n",
              "Name: brand, dtype: int64"
            ]
          },
          "metadata": {
            "tags": []
          },
          "execution_count": 11
        }
      ]
    },
    {
      "cell_type": "code",
      "metadata": {
        "id": "TSHfdf9iFJxX",
        "colab": {
          "base_uri": "https://localhost:8080/"
        },
        "outputId": "32a1673a-b8de-4fbc-9efd-9c3915267001"
      },
      "source": [
        "df.shape"
      ],
      "execution_count": null,
      "outputs": [
        {
          "output_type": "execute_result",
          "data": {
            "text/plain": [
              "(8610, 7)"
            ]
          },
          "metadata": {
            "tags": []
          },
          "execution_count": 12
        }
      ]
    },
    {
      "cell_type": "code",
      "metadata": {
        "colab": {
          "base_uri": "https://localhost:8080/",
          "height": 482
        },
        "id": "rqNJ2NUugMkU",
        "outputId": "0d10d498-0392-4626-998e-dc1133d8a0d8"
      },
      "source": [
        "import matplotlib.pyplot as plt\n",
        "\n",
        "print(df['price'].value_counts(bins=10, sort=False))\n",
        "data = df['price']\n",
        "arr=plt.hist(data,rwidth=0.9,alpha=0.3,color='orange',bins=10)\n",
        "for i in range(10):\n",
        "    plt.text(arr[1][i],arr[0][i],str(arr[0][i]))\n",
        "plt.xlabel('Price') \n",
        "plt.ylabel('Frequency') \n",
        "plt.title('Price Histogram')\n",
        "plt.show()\n",
        "df.drop(df.loc[(df['price'] > 100 )].index, inplace=True)"
      ],
      "execution_count": null,
      "outputs": [
        {
          "output_type": "stream",
          "text": [
            "(0.0, 100.9]       8105\n",
            "(100.9, 200.8]      113\n",
            "(200.8, 300.7]       18\n",
            "(300.7, 400.6]        8\n",
            "(400.6, 500.5]        2\n",
            "(500.5, 600.4]        3\n",
            "(600.4, 700.3]        3\n",
            "(700.3, 800.2]        2\n",
            "(800.2, 900.1]        1\n",
            "(900.1, 1000.0]       6\n",
            "Name: price, dtype: int64\n"
          ],
          "name": "stdout"
        },
        {
          "output_type": "display_data",
          "data": {
            "image/png": "[encoded data removed]",
            "text/plain": [
              "<Figure size 432x288 with 1 Axes>"
            ]
          },
          "metadata": {
            "tags": [],
            "needs_background": "light"
          }
        }
      ]
    },
    {
      "cell_type": "code",
      "metadata": {
        "id": "Jlgp_-FioG1q",
        "colab": {
          "base_uri": "https://localhost:8080/"
        },
        "outputId": "5936fd61-f6c5-485c-adf6-5c01a7fd18c0"
      },
      "source": [
        "print(df['price'].value_counts(bins=10, sort=False))"
      ],
      "execution_count": null,
      "outputs": [
        {
          "output_type": "stream",
          "text": [
            "(0.9, 10.9]      3509\n",
            "(10.9, 20.8]     2449\n",
            "(20.8, 30.7]      977\n",
            "(30.7, 40.6]      450\n",
            "(40.6, 50.5]      296\n",
            "(50.5, 60.4]      149\n",
            "(60.4, 70.3]       92\n",
            "(70.3, 80.2]       63\n",
            "(80.2, 90.1]       43\n",
            "(90.1, 100.0]      77\n",
            "Name: price, dtype: int64\n"
          ],
          "name": "stdout"
        }
      ]
    },
    {
      "cell_type": "code",
      "metadata": {
        "id": "DuXcDisqhiHB",
        "colab": {
          "base_uri": "https://localhost:8080/"
        },
        "outputId": "546139c8-2458-4f80-987b-c855960294ce"
      },
      "source": [
        "con = df['condition'].unique().tolist()\n",
        "#con.sort()\n",
        "info = []\n",
        "for i in con:\n",
        "  info.append([i, df['price'][df['condition'] == i].mean()])\n",
        "info"
      ],
      "execution_count": null,
      "outputs": [
        {
          "output_type": "execute_result",
          "data": {
            "text/plain": [
              "[['New without tags', 20.026775431861804],\n",
              " ['Very good', 16.623683651804672],\n",
              " ['Satisfactory', 14.398055555555556],\n",
              " ['Good', 14.516521739130432],\n",
              " ['New with tags', 28.150671641791057]]"
            ]
          },
          "metadata": {
            "tags": []
          },
          "execution_count": 23
        }
      ]
    },
    {
      "cell_type": "code",
      "metadata": {
        "id": "aMAJrx0f97KJ",
        "colab": {
          "base_uri": "https://localhost:8080/"
        },
        "outputId": "c2a17331-062a-49a5-968c-9a4632657d5e"
      },
      "source": [
        "df['condition'].value_counts()"
      ],
      "execution_count": null,
      "outputs": [
        {
          "output_type": "execute_result",
          "data": {
            "text/plain": [
              "Very good           4710\n",
              "Good                1173\n",
              "New with tags       1072\n",
              "New without tags    1042\n",
              "Satisfactory         108\n",
              "Name: condition, dtype: int64"
            ]
          },
          "metadata": {
            "tags": []
          },
          "execution_count": 24
        }
      ]
    },
    {
      "cell_type": "code",
      "metadata": {
        "id": "tJ82VdORfZ7f",
        "colab": {
          "base_uri": "https://localhost:8080/"
        },
        "outputId": "42f4c5b8-f6e9-41f7-fe95-5eb210c45e14"
      },
      "source": [
        "# category 1\n",
        "\n",
        "df['category-1'] = df['category-1'].replace(['Pants & leggings'], 'Pants') \n",
        "df['category-1'] = df['category-1'].replace(['Shorts & capri pants'], 'Shorts') \n",
        "\n",
        "val = df['category-1'].value_counts()\n",
        "ind = val[val < 400].index # any clothing category that appears less than 400 times is replaced with Other\n",
        "df['category-1'] = df['category-1'].replace({x:'Other' for x in ind})\n",
        "df.drop(df.loc[df['category-1'] == 'Other'].index, inplace=True)\n",
        "df['category-1'].value_counts()"
      ],
      "execution_count": null,
      "outputs": [
        {
          "output_type": "execute_result",
          "data": {
            "text/plain": [
              "Tops & t-shirts    1929\n",
              "Coats & jackets    1132\n",
              "Sweaters           1131\n",
              "Dresses             994\n",
              "Shorts              974\n",
              "Pants               713\n",
              "Activewear          644\n",
              "Jeans               588\n",
              "Name: category-1, dtype: int64"
            ]
          },
          "metadata": {
            "tags": []
          },
          "execution_count": 25
        }
      ]
    },
    {
      "cell_type": "code",
      "metadata": {
        "id": "gjC2PGqV-qh5"
      },
      "source": [
        "df.to_csv('model_data.csv', index=False)\n",
        "!cp model_data.csv \"drive/My Drive/FYDP/Prototype - I1/\""
      ],
      "execution_count": null,
      "outputs": []
    },
    {
      "cell_type": "code",
      "metadata": {
        "id": "cl4-VpQ_Fly2",
        "colab": {
          "base_uri": "https://localhost:8080/"
        },
        "outputId": "a375736f-7776-414e-adc2-65577665c2f6"
      },
      "source": [
        "print(df.head())\n",
        "print(df.shape)"
      ],
      "execution_count": null,
      "outputs": [
        {
          "output_type": "stream",
          "text": [
            "           brand  price size         condition colour       category-1 gender\n",
            "9         Pacsun   15.0    S  New without tags  black  Coats & jackets    men\n",
            "10         Other   80.0    L         Very good  black  Coats & jackets    men\n",
            "11    Forever 21   15.0    M         Very good  brown  Coats & jackets    men\n",
            "12       UNKNOWN   30.0    L         Very good  green  Coats & jackets    men\n",
            "13  Michael Kors   60.0    L  New without tags  black  Coats & jackets    men\n",
            "(8105, 7)\n"
          ],
          "name": "stdout"
        }
      ]
    },
    {
      "cell_type": "markdown",
      "metadata": {
        "id": "ymdDWPq1XLkh"
      },
      "source": [
        "# Plots"
      ]
    },
    {
      "cell_type": "code",
      "metadata": {
        "id": "X2G8bXxAXLRs"
      },
      "source": [
        "import matplotlib.pyplot as plt\n",
        "import seaborn as sns\n",
        "import warnings\n",
        "warnings.filterwarnings(\"ignore\")"
      ],
      "execution_count": null,
      "outputs": []
    },
    {
      "cell_type": "code",
      "metadata": {
        "id": "N7WO3ihSe6A9"
      },
      "source": [
        "df1 = pd.DataFrame(data=df[df['price'] <= 100])"
      ],
      "execution_count": null,
      "outputs": []
    },
    {
      "cell_type": "code",
      "metadata": {
        "id": "WySsrQoHcqja",
        "colab": {
          "base_uri": "https://localhost:8080/",
          "height": 295
        },
        "outputId": "8d745c38-f958-44d5-d012-1cd373713285"
      },
      "source": [
        "# PRICE HISTOGRAM\n",
        "plt.hist(df1['price'],rwidth=0.9,alpha=0.3,color='blue',bins=10,edgecolor='red') \n",
        "plt.xlabel('Price') \n",
        "plt.ylabel('Frequency') \n",
        "plt.title('Price Histogram')\n",
        "plt.show()"
      ],
      "execution_count": null,
      "outputs": [
        {
          "output_type": "display_data",
          "data": {
            "image/png": "[encoded data removed]",
            "text/plain": [
              "<Figure size 432x288 with 1 Axes>"
            ]
          },
          "metadata": {
            "tags": [],
            "needs_background": "light"
          }
        }
      ]
    },
    {
      "cell_type": "code",
      "metadata": {
        "colab": {
          "base_uri": "https://localhost:8080/",
          "height": 295
        },
        "id": "hkP58KEf2RVh",
        "outputId": "7b30d879-cbd2-42ae-888f-36f297f27618"
      },
      "source": [
        "data1 = df1['price']\n",
        "\n",
        "arr=plt.hist(data1,rwidth=0.9,alpha=0.3,color='orange',bins=10)\n",
        "for i in range(10):\n",
        "    plt.text(arr[1][i],arr[0][i],str(arr[0][i]))\n",
        "plt.xlabel('Price') \n",
        "plt.ylabel('Frequency') \n",
        "plt.title('Price Histogram')\n",
        "plt.show()"
      ],
      "execution_count": null,
      "outputs": [
        {
          "output_type": "display_data",
          "data": {
            "image/png": "[encoded data removed]",
            "text/plain": [
              "<Figure size 432x288 with 1 Axes>"
            ]
          },
          "metadata": {
            "tags": [],
            "needs_background": "light"
          }
        }
      ]
    },
    {
      "cell_type": "code",
      "metadata": {
        "id": "BTQFPJCtdLv9",
        "colab": {
          "base_uri": "https://localhost:8080/",
          "height": 265
        },
        "outputId": "9a3220c9-83cd-443c-aeb5-a783fd69eac5"
      },
      "source": [
        "# Attempt at transformation to normalize\n",
        "import math\n",
        "df1['price_sqrt'] = df1['price']**0.5\n",
        "plt.hist(df1['price_sqrt'],rwidth=0.9,alpha=0.3,color='green',bins=10,edgecolor='red') \n",
        "plt.show()\n",
        "# Taking a square root of the plot helps to normalize data to use One-way ANOVA\n",
        "# However this yielded similar results to Kruskal Wallis so we will just proceed with regular price histogram\n",
        "# TLDR - Ignore"
      ],
      "execution_count": null,
      "outputs": [
        {
          "output_type": "display_data",
          "data": {
            "image/png": "[encoded data removed]",
            "text/plain": [
              "<Figure size 432x288 with 1 Axes>"
            ]
          },
          "metadata": {
            "tags": [],
            "needs_background": "light"
          }
        }
      ]
    },
    {
      "cell_type": "code",
      "metadata": {
        "id": "J-3dpodBd8zI",
        "colab": {
          "base_uri": "https://localhost:8080/",
          "height": 621
        },
        "outputId": "4feeb136-715e-4cae-9fe2-3c8fd379cf66"
      },
      "source": [
        "# PRICE VS BRAND BOXPLOT\n",
        "\n",
        "# Slice df depending on most common \n",
        "topX = 10\n",
        "allBrand = df1['brand'].value_counts().index.tolist() # colour list in descending order of freq\n",
        "selBrand = allBrand[0:topX]\n",
        "\n",
        "brandDf = df1[df1['brand'].isin(selBrand)] # new df with only top X colours\n",
        "\n",
        "brnd = {}\n",
        "for i in brandDf['brand'].unique():\n",
        "    brnd[i] = brandDf[brandDf['brand'] == i].price\n",
        "\n",
        "plt.figure(figsize=(20,10))\n",
        "plt.boxplot([x for x in brnd.values()],labels=[x for x in brnd.keys()])\n",
        "plt.xlabel('Brand') \n",
        "plt.ylabel('Price') \n",
        "plt.title('Brand Boxplot against Price')\n",
        "plt.show()"
      ],
      "execution_count": null,
      "outputs": [
        {
          "output_type": "display_data",
          "data": {
            "image/png": "[encoded data removed]",
            "text/plain": [
              "<Figure size 1440x720 with 1 Axes>"
            ]
          },
          "metadata": {
            "tags": [],
            "needs_background": "light"
          }
        }
      ]
    },
    {
      "cell_type": "code",
      "metadata": {
        "id": "trSAN-VweDhN",
        "colab": {
          "base_uri": "https://localhost:8080/",
          "height": 621
        },
        "outputId": "a9ea6e4d-2b7e-40c3-b5d5-aac045f03987"
      },
      "source": [
        "# PRICE VS SIZE BOXPLOT\n",
        "\n",
        "siz = {}\n",
        "for i in df1['size'].unique():\n",
        "    siz[i] = df1[df1['size'] == i].price\n",
        "\n",
        "plt.figure(figsize=(20,10))\n",
        "plt.boxplot([x for x in siz.values()],labels=[x for x in siz.keys()])\n",
        "plt.xlabel('Size') \n",
        "plt.ylabel('Price') \n",
        "plt.title('Size Boxplot against Price')\n",
        "\n",
        "plt.show()"
      ],
      "execution_count": null,
      "outputs": [
        {
          "output_type": "display_data",
          "data": {
            "image/png": "[encoded data removed]",
            "text/plain": [
              "<Figure size 1440x720 with 1 Axes>"
            ]
          },
          "metadata": {
            "tags": [],
            "needs_background": "light"
          }
        }
      ]
    },
    {
      "cell_type": "code",
      "metadata": {
        "id": "osHfG2RreG2E",
        "colab": {
          "base_uri": "https://localhost:8080/",
          "height": 621
        },
        "outputId": "eae34994-8240-4c86-8dea-a4ea07657607"
      },
      "source": [
        "#  PRICE VS CONDITION BOXPLOT\n",
        "\n",
        "condition = {}\n",
        "for i in df1['condition'].unique():\n",
        "    condition[i] = df1[df1['condition'] == i].price\n",
        "\n",
        "plt.figure(figsize=(20,10))\n",
        "plt.boxplot([x for x in condition.values()],labels=[x for x in condition.keys()])\n",
        "plt.xlabel('Condition') \n",
        "plt.ylabel('Price') \n",
        "plt.title('Condition Boxplot against Price')\n",
        "plt.show()"
      ],
      "execution_count": null,
      "outputs": [
        {
          "output_type": "display_data",
          "data": {
            "image/png": "[encoded data removed]",
            "text/plain": [
              "<Figure size 1440x720 with 1 Axes>"
            ]
          },
          "metadata": {
            "tags": [],
            "needs_background": "light"
          }
        }
      ]
    },
    {
      "cell_type": "code",
      "metadata": {
        "id": "kxmioysKeakK",
        "colab": {
          "base_uri": "https://localhost:8080/",
          "height": 621
        },
        "outputId": "9e0cdf0a-30f7-443e-c2a7-0021fcec2d6c"
      },
      "source": [
        "# PRICE VS COLOUR BOXPLOT\n",
        "\n",
        "# Slice df depending on most common \n",
        "topX = 10\n",
        "allCol = df1['colour'].value_counts().index.tolist() # colour list in descending order of freq\n",
        "selCol = allCol[0:topX]\n",
        "\n",
        "colDf = df1[df1['colour'].isin(selCol)] # new df with only top X colours\n",
        "\n",
        "colr = {}\n",
        "for i in colDf['colour'].unique():\n",
        "    colr[i] = colDf[colDf['colour'] == i].price\n",
        "\n",
        "plt.figure(figsize=(20,10))\n",
        "plt.boxplot([x for x in colr.values()],labels=[x for x in colr.keys()])\n",
        "plt.xlabel('Colour') \n",
        "plt.ylabel('Price') \n",
        "plt.title('Colour Boxplot against Price')\n",
        "plt.show()\n"
      ],
      "execution_count": null,
      "outputs": [
        {
          "output_type": "display_data",
          "data": {
            "image/png": "[encoded data removed]",
            "text/plain": [
              "<Figure size 1440x720 with 1 Axes>"
            ]
          },
          "metadata": {
            "tags": [],
            "needs_background": "light"
          }
        }
      ]
    },
    {
      "cell_type": "code",
      "metadata": {
        "id": "zH3wROp9eegf",
        "colab": {
          "base_uri": "https://localhost:8080/",
          "height": 621
        },
        "outputId": "58d5ce58-b416-4969-bb83-66b08c37e6d1"
      },
      "source": [
        "# PRICE VS CATEGORY BOXPLOT\n",
        "\n",
        "# Slice df depending on most common \n",
        "topX = 8\n",
        "allCategory = df1['category-1'].value_counts().index.tolist() # colour list in descending order of freq\n",
        "selCategory = allCategory[0:topX]\n",
        "catDf = df1[df1['category-1'].isin(selCategory)] # new df with only top X colours\n",
        "\n",
        "categ = {}\n",
        "for i in catDf['category-1'].unique():\n",
        "    categ[i] = catDf[catDf['category-1'] == i].price\n",
        "\n",
        "plt.figure(figsize=(20,10))\n",
        "plt.boxplot([x for x in categ.values()],labels=[x for x in categ.keys()])\n",
        "plt.xlabel('Category') \n",
        "plt.ylabel('Price') \n",
        "plt.title('Category Boxplot against Price')\n",
        "plt.show()"
      ],
      "execution_count": null,
      "outputs": [
        {
          "output_type": "display_data",
          "data": {
            "image/png": "[encoded data removed]",
            "text/plain": [
              "<Figure size 1440x720 with 1 Axes>"
            ]
          },
          "metadata": {
            "tags": [],
            "needs_background": "light"
          }
        }
      ]
    },
    {
      "cell_type": "code",
      "metadata": {
        "id": "x5WEoIH0drC3",
        "colab": {
          "base_uri": "https://localhost:8080/",
          "height": 621
        },
        "outputId": "a1884b00-e0fa-47bd-b908-a3589979a575"
      },
      "source": [
        "# PRICE VS GENDER BOXPLOT\n",
        "\n",
        "gend = {}\n",
        "for i in df1['gender'].unique():\n",
        "    gend[i] = df1[df1['gender'] == i].price\n",
        "\n",
        "plt.figure(figsize=(20,10))\n",
        "plt.boxplot([x for x in gend.values()],labels=[x for x in gend.keys()])\n",
        "plt.xlabel('Gender') \n",
        "plt.ylabel('Price') \n",
        "plt.title('Gender Boxplot against Price')\n",
        "\n",
        "plt.show()"
      ],
      "execution_count": null,
      "outputs": [
        {
          "output_type": "display_data",
          "data": {
            "image/png": "[encoded data removed]",
            "text/plain": [
              "<Figure size 1440x720 with 1 Axes>"
            ]
          },
          "metadata": {
            "tags": [],
            "needs_background": "light"
          }
        }
      ]
    },
    {
      "cell_type": "markdown",
      "metadata": {
        "id": "HgfMt53ICCXM"
      },
      "source": [
        "# Test & Hypothesis"
      ]
    },
    {
      "cell_type": "code",
      "metadata": {
        "id": "ihJK8onXRvaQ",
        "colab": {
          "base_uri": "https://localhost:8080/",
          "height": 266
        },
        "outputId": "26ada696-324e-4cc8-e1d3-5bdc8a7bd0ae"
      },
      "source": [
        "# percentage of nulls in the table\n",
        "null_values = df.isnull().sum()\n",
        "null_values = pd.DataFrame(null_values, columns=['null'])\n",
        "sum_tot = len(df)\n",
        "null_values['percent'] = round(null_values['null']/sum_tot*100, 3)\n",
        "null_values.sort_values('percent', ascending=False)"
      ],
      "execution_count": null,
      "outputs": [
        {
          "output_type": "execute_result",
          "data": {
            "text/html": [
              "<div>\n",
              "<style scoped>\n",
              "    .dataframe tbody tr th:only-of-type {\n",
              "        vertical-align: middle;\n",
              "    }\n",
              "\n",
              "    .dataframe tbody tr th {\n",
              "        vertical-align: top;\n",
              "    }\n",
              "\n",
              "    .dataframe thead th {\n",
              "        text-align: right;\n",
              "    }\n",
              "</style>\n",
              "<table border=\"1\" class=\"dataframe\">\n",
              "  <thead>\n",
              "    <tr style=\"text-align: right;\">\n",
              "      <th></th>\n",
              "      <th>null</th>\n",
              "      <th>percent</th>\n",
              "    </tr>\n",
              "  </thead>\n",
              "  <tbody>\n",
              "    <tr>\n",
              "      <th>brand</th>\n",
              "      <td>0</td>\n",
              "      <td>0.0</td>\n",
              "    </tr>\n",
              "    <tr>\n",
              "      <th>price</th>\n",
              "      <td>0</td>\n",
              "      <td>0.0</td>\n",
              "    </tr>\n",
              "    <tr>\n",
              "      <th>size</th>\n",
              "      <td>0</td>\n",
              "      <td>0.0</td>\n",
              "    </tr>\n",
              "    <tr>\n",
              "      <th>condition</th>\n",
              "      <td>0</td>\n",
              "      <td>0.0</td>\n",
              "    </tr>\n",
              "    <tr>\n",
              "      <th>colour</th>\n",
              "      <td>0</td>\n",
              "      <td>0.0</td>\n",
              "    </tr>\n",
              "    <tr>\n",
              "      <th>category-1</th>\n",
              "      <td>0</td>\n",
              "      <td>0.0</td>\n",
              "    </tr>\n",
              "    <tr>\n",
              "      <th>gender</th>\n",
              "      <td>0</td>\n",
              "      <td>0.0</td>\n",
              "    </tr>\n",
              "  </tbody>\n",
              "</table>\n",
              "</div>"
            ],
            "text/plain": [
              "            null  percent\n",
              "brand          0      0.0\n",
              "price          0      0.0\n",
              "size           0      0.0\n",
              "condition      0      0.0\n",
              "colour         0      0.0\n",
              "category-1     0      0.0\n",
              "gender         0      0.0"
            ]
          },
          "metadata": {
            "tags": []
          },
          "execution_count": 39
        }
      ]
    },
    {
      "cell_type": "markdown",
      "metadata": {
        "id": "woemKr0pfksf"
      },
      "source": [
        "General procedure for analysis is as follows. To analyze whether the means of an independent variable (with multiple levels) is significantly different, several teste are available. If 1 - normality, and 2 - homogenity of variances are met, use One-way Anova. If only 2 is met, use Kruskal Wallis. If neither are met, use Welch's ANOVA."
      ]
    },
    {
      "cell_type": "code",
      "metadata": {
        "id": "YzwA4hEZATtz",
        "colab": {
          "base_uri": "https://localhost:8080/"
        },
        "outputId": "9cb121e8-ad9d-4737-89c5-82b2c3f1a262"
      },
      "source": [
        "# Check homogenity of variance\n",
        "from scipy.stats import levene\n",
        "from tabulate import tabulate\n",
        "\n",
        "# The Levene test tests the null hypothesis that all input samples are from populations with equal variances.\n",
        "\n",
        "varTable = []\n",
        "\n",
        "# Brand\n",
        "levstat_brand, levp_brand = levene(df1['price'][df1['brand'] == selBrand[0]],\n",
        "                      df1['price'][df1['brand'] == selBrand[1]],\n",
        "                       df1['price'][df1['brand'] == selBrand[3]],\n",
        "                       df1['price'][df1['brand'] == selBrand[4]],\n",
        "                       df1['price'][df1['brand'] == selBrand[5]],\n",
        "                       df1['price'][df1['brand'] == selBrand[6]],\n",
        "                       df1['price'][df1['brand'] == selBrand[7]],\n",
        "                       df1['price'][df1['brand'] == selBrand[8]],\n",
        "                       df1['price'][df1['brand'] == selBrand[9]] )\n",
        "print(\"Brand P-Value:\", levp_brand)\n",
        "\n",
        "if levp_brand < 0.05:\n",
        "    brandVarRes = \"Reject NULL hypothesis - Unequal variances.\"\n",
        "if levp_brand > 0.05:\n",
        "    brandVarRes = \"Accept NULL hypothesis - Equal variances.\"\n",
        "varTable.append(['brand', levp_brand, brandVarRes])\n",
        "\n",
        "# size\n",
        "levstat_size, levp_size = levene(df1['price'][df1['size'] == 'S'],\n",
        "                                df1['price'][df1['size'] == 'M'],\n",
        "                                df1['price'][df1['size'] == 'L'])\n",
        "print(\"P-Value:\", levp_size)\n",
        "\n",
        "if levp_size < 0.05:\n",
        "    sizeVarRes = \"Reject NULL hypothesis - Unequal variances.\"\n",
        "if levp_size > 0.05:\n",
        "    sizeVarRes = \"Accept NULL hypothesis - Equal variances.\"\n",
        "\n",
        "varTable.append(['size', levp_size, sizeVarRes])\n",
        "\n",
        "# condition\n",
        "levstat_cond, levp_cond = levene(df1['price'][df1['condition'] == 'New with tags'],\n",
        "                      df1['price'][df1['condition'] == 'New without tags'],\n",
        "                      df1['price'][df1['condition'] == 'Very good'],\n",
        "                      df1['price'][df1['condition'] == 'Good'],\n",
        "                      df1['price'][df1['condition'] == 'Satisfactory'])\n",
        "print(\"P-Value:\", levp_cond)\n",
        "\n",
        "if levp_cond < 0.05:\n",
        "    condVarRes = \"Reject NULL hypothesis - Unequal variances.\"\n",
        "if levp_cond > 0.05:\n",
        "    condVarRes = \"Accept NULL hypothesis - Equal variances.\"\n",
        "\n",
        "varTable.append(['cond', levp_cond, condVarRes])\n",
        "\n",
        "# colour\n",
        "levstat_colr, levp_colr = levene(df1['price'][df1['colour'] == selCol[0]],\n",
        "                      df1['price'][df1['colour'] == selCol[1]],\n",
        "                       df1['price'][df1['colour'] == selCol[3]],\n",
        "                       df1['price'][df1['colour'] == selCol[4]],\n",
        "                       df1['price'][df1['colour'] == selCol[5]],\n",
        "                       df1['price'][df1['colour'] == selCol[6]],\n",
        "                       df1['price'][df1['colour'] == selCol[7]],\n",
        "                       df1['price'][df1['colour'] == selCol[8]],\n",
        "                       df1['price'][df1['colour'] == selCol[9]])\n",
        "print(\"P-Value:\", levp_colr)\n",
        "\n",
        "if levp_colr < 0.05:\n",
        "    colrVarRes = \"Reject NULL hypothesis - Unequal variances.\"\n",
        "if levp_colr > 0.05:\n",
        "    colrVarRes = \"Accept NULL hypothesis - Equal variances.\"\n",
        "\n",
        "varTable.append(['colr', levp_colr, colrVarRes])\n",
        "\n",
        "# category-1\n",
        "levstat_cat1, levp_cat1 = levene(df1['price'][df1['category-1'] == selCategory[0]],\n",
        "                      df1['price'][df1['category-1'] == selCategory[1]],\n",
        "                       df1['price'][df1['category-1'] == selCategory[3]],\n",
        "                       df1['price'][df1['category-1'] == selCategory[4]],\n",
        "                       df1['price'][df1['category-1'] == selCategory[5]],\n",
        "                       df1['price'][df1['category-1'] == selCategory[6]],\n",
        "                       df1['price'][df1['category-1'] == selCategory[7]])\n",
        "print(\"P-Value:\", levp_cat1)\n",
        "\n",
        "if levp_cat1 < 0.05:\n",
        "    cat1VarRes = \"Reject NULL hypothesis - Unequal variances.\"\n",
        "if levp_cat1 > 0.05:\n",
        "    cat1VarRes = \"Accept NULL hypothesis - Equal variances.\"\n",
        "\n",
        "varTable.append(['category-1', levp_cat1, cat1VarRes])\n",
        "\n",
        "# gender\n",
        "levstat_gend, levp_gend = levene(df1['price'][df1['gender'] == 'men'],\n",
        "                            df1['price'][df1['gender'] == 'women'])\n",
        "print(\"P-Value:\", levp_gend)\n",
        "\n",
        "if levp_gend < 0.05:\n",
        "    gendVarRes = \"Reject NULL hypothesis - Unequal variances.\"\n",
        "if levp_gend > 0.05:\n",
        "    gendVarRes = \"Accept NULL hypothesis - Equal variances.\"\n",
        "\n",
        "varTable.append(['gender', levp_gend, gendVarRes])\n",
        "\n",
        "print(tabulate(varTable, headers = ['Independent Variable', 'p-value', 'Variance Result']), \"\\n\")"
      ],
      "execution_count": null,
      "outputs": [
        {
          "output_type": "stream",
          "text": [
            "Brand P-Value: 8.00472553483945e-20\n",
            "P-Value: 0.043551975527077055\n",
            "P-Value: 8.1983204286028e-31\n",
            "P-Value: 0.008118926669085796\n",
            "P-Value: 3.4570066710771344e-105\n",
            "P-Value: 0.0009160952990921835\n",
            "Independent Variable         p-value  Variance Result\n",
            "----------------------  ------------  -------------------------------------------\n",
            "brand                   8.00473e-20   Reject NULL hypothesis - Unequal variances.\n",
            "size                    0.043552      Reject NULL hypothesis - Unequal variances.\n",
            "cond                    8.19832e-31   Reject NULL hypothesis - Unequal variances.\n",
            "colr                    0.00811893    Reject NULL hypothesis - Unequal variances.\n",
            "category-1              3.45701e-105  Reject NULL hypothesis - Unequal variances.\n",
            "gender                  0.000916095   Reject NULL hypothesis - Unequal variances. \n",
            "\n"
          ],
          "name": "stdout"
        }
      ]
    },
    {
      "cell_type": "code",
      "metadata": {
        "id": "kJoTeHSAAWwJ",
        "colab": {
          "base_uri": "https://localhost:8080/",
          "height": 295
        },
        "outputId": "9a61ff50-c2d1-419d-c0b7-71cea9494449"
      },
      "source": [
        "# Check normality \n",
        "from scipy import stats\n",
        "import matplotlib.pyplot as plt\n",
        "import pylab \n",
        "\n",
        "stats.probplot(df1['price'], dist=\"norm\", plot=pylab)\n",
        "pylab.show()"
      ],
      "execution_count": null,
      "outputs": [
        {
          "output_type": "display_data",
          "data": {
            "image/png": "[encoded data removed]",
            "text/plain": [
              "<Figure size 432x288 with 1 Axes>"
            ]
          },
          "metadata": {
            "tags": [],
            "needs_background": "light"
          }
        }
      ]
    },
    {
      "cell_type": "markdown",
      "metadata": {
        "id": "8RG21kx7B5e7"
      },
      "source": [
        "How to interpret QQ plot: https://seankross.com/2016/02/29/A-Q-Q-Plot-Dissection-Kit.html"
      ]
    },
    {
      "cell_type": "markdown",
      "metadata": {
        "id": "RlxhWxYHAZGu"
      },
      "source": [
        "Thus both the normality and homogenity assumptions are violated for all variables except size. Welch's ANOVA test should be used. "
      ]
    },
    {
      "cell_type": "code",
      "metadata": {
        "id": "zyoLZh2oiTvI"
      },
      "source": [
        "# OG at: https://github.com/scipy/scipy/issues/11122\n",
        "def welch_anova_np(*args, var_equal=False):\n",
        "    from scipy import special\n",
        "    import collections\n",
        "    # https://svn.r-project.org/R/trunk/src/library/stats/R/oneway.test.R\n",
        "    # translated from R Welch ANOVA (not assuming equal variance)\n",
        "\n",
        "    F_onewayResult = collections.namedtuple('F_onewayResult', ('statistic', 'pvalue'))\n",
        "\n",
        "    args = [np.asarray(arg, dtype=float) for arg in args]\n",
        "    k = len(args)\n",
        "    ni =np.array([len(arg) for arg in args])\n",
        "    mi =np.array([np.mean(arg) for arg in args])\n",
        "    vi =np.array([np.var(arg,ddof=1) for arg in args])\n",
        "    wi = ni/vi\n",
        "\n",
        "    tmp =sum((1-wi/sum(wi))**2 / (ni-1))\n",
        "    tmp /= (k**2 -1)\n",
        "\n",
        "    dfbn = k - 1\n",
        "    dfwn = 1 / (3 * tmp)\n",
        "\n",
        "    m = sum(mi*wi) / sum(wi)\n",
        "    f = sum(wi * (mi - m)**2) /((dfbn) * (1 + 2 * (dfbn - 1) * tmp))\n",
        "    prob = special.fdtrc(dfbn, dfwn, f)   # equivalent to stats.f.sf\n",
        "    return F_onewayResult(f, prob)"
      ],
      "execution_count": null,
      "outputs": []
    },
    {
      "cell_type": "code",
      "metadata": {
        "id": "XjXogjdxiJnL",
        "colab": {
          "base_uri": "https://localhost:8080/"
        },
        "outputId": "d3222507-4712-4d22-95d9-b55c503dbeee"
      },
      "source": [
        "# Summarize results in statsTable\n",
        "import numpy as np\n",
        "indVar = ['brand', 'size', 'condition', 'colour', 'category-1', 'gender']\n",
        "numRows = len(indVar)\n",
        "depVar = ['price']*numRows\n",
        "\n",
        "alpha = 0.05\n",
        "statsTable = []\n",
        "\n",
        "# Brand\n",
        "branTest = welch_anova_np(df1['price'][df1['brand'] == selBrand[0]],\n",
        "                      df1['price'][df1['brand'] == selBrand[1]],\n",
        "                       df1['price'][df1['brand'] == selBrand[3]],\n",
        "                       df1['price'][df1['brand'] == selBrand[4]],\n",
        "                       df1['price'][df1['brand'] == selBrand[5]],\n",
        "                       df1['price'][df1['brand'] == selBrand[6]],\n",
        "                       df1['price'][df1['brand'] == selBrand[7]],\n",
        "                       df1['price'][df1['brand'] == selBrand[8]],\n",
        "                       df1['price'][df1['brand'] == selBrand[9]])\n",
        "\n",
        "if branTest[1] < alpha:\n",
        "  branRes = 'Statistically Different'\n",
        "else:\n",
        "  branRes = 'Statistically Similar'\n",
        "\n",
        "statsTable.append([indVar[0], branTest[1], branRes])\n",
        "\n",
        "# Size\n",
        "sizTest = stats.kruskal(df1['price'][df1['size'] == 'S'],\n",
        "                      df1['price'][df1['size'] == 'M'],\n",
        "                      df1['price'][df1['size'] == 'L'])\n",
        "if sizTest[1] < alpha:\n",
        "  sizRes = 'Statistically Different'  \n",
        "else:\n",
        "  sizRes = 'Statistically Similar'\n",
        "statsTable.append([indVar[1], sizTest[1], sizRes])\n",
        "\n",
        "\n",
        "# Condition\n",
        "conTest = welch_anova_np(df1['price'][df1['condition'] == 'New with tags'],\n",
        "                      df1['price'][df1['condition'] == 'New without tags'],\n",
        "                      df1['price'][df1['condition'] == 'Very good'],\n",
        "                      df1['price'][df1['condition'] == 'Good'],\n",
        "                      df1['price'][df1['condition'] == 'Satisfactory'])\n",
        "if conTest[1] < alpha:\n",
        "  conRes = 'Statistically Different'  \n",
        "else:\n",
        "  conRes = 'Statistically Similar'\n",
        "statsTable.append([indVar[2], conTest[1], conRes])\n",
        "\n",
        "# Colour\n",
        "colrTest = welch_anova_np(df1['price'][df1['colour'] == selCol[0]],\n",
        "                      df1['price'][df1['colour'] == selCol[1]],\n",
        "                       df1['price'][df1['colour'] == selCol[3]],\n",
        "                       df1['price'][df1['colour'] == selCol[4]],\n",
        "                       df1['price'][df1['colour'] == selCol[5]],\n",
        "                       df1['price'][df1['colour'] == selCol[6]],\n",
        "                       df1['price'][df1['colour'] == selCol[7]],\n",
        "                       df1['price'][df1['colour'] == selCol[8]],\n",
        "                       df1['price'][df1['colour'] == selCol[9]])\n",
        "\n",
        "if colrTest[1] < alpha:\n",
        "  colrRes = 'Statistically Different'  \n",
        "else:\n",
        "  colrRes = 'Statistically Similar'\n",
        "statsTable.append([indVar[3], colrTest[1], colrRes])\n",
        "\n",
        "# Category-1\n",
        "catTest = welch_anova_np(df1['price'][df1['category-1'] == selCategory[0]],\n",
        "                      df1['price'][df1['category-1'] == selCategory[1]],\n",
        "                       df1['price'][df1['category-1'] == selCategory[3]],\n",
        "                       df1['price'][df1['category-1'] == selCategory[4]],\n",
        "                       df1['price'][df1['category-1'] == selCategory[5]],\n",
        "                       df1['price'][df1['category-1'] == selCategory[6]],\n",
        "                       df1['price'][df1['category-1'] == selCategory[7]])\n",
        "if catTest[1] < alpha:\n",
        "  catRes = 'Statistically Different'  \n",
        "else:\n",
        "  catRes = 'Statistically Similar'\n",
        "statsTable.append([indVar[4], catTest[1], catRes])\n",
        "\n",
        "# Gender\n",
        "genTest = welch_anova_np(df1['price'][df1['gender'] == 'men'],\n",
        "                      df1['price'][df1['gender'] == 'women'])\n",
        "\n",
        "if genTest[1] < alpha:\n",
        "  genRes = 'Statistically Different'  \n",
        "else:\n",
        "  genRes = 'Statistically Similar'\n",
        "statsTable.append([indVar[5], genTest[1], genRes])\n",
        "\n",
        "print(tabulate(statsTable, headers = ['Independent Variable', 'p-value', 'Result']), \"\\n\")"
      ],
      "execution_count": null,
      "outputs": [
        {
          "output_type": "stream",
          "text": [
            "Independent Variable         p-value  Result\n",
            "----------------------  ------------  -----------------------\n",
            "brand                   1.21813e-65   Statistically Different\n",
            "size                    0.0916114     Statistically Similar\n",
            "condition               6.11041e-60   Statistically Different\n",
            "colour                  2.21357e-05   Statistically Different\n",
            "category-1              3.82192e-156  Statistically Different\n",
            "gender                  0.000694404   Statistically Different \n",
            "\n"
          ],
          "name": "stdout"
        }
      ]
    },
    {
      "cell_type": "markdown",
      "metadata": {
        "id": "2Po_GdwRjhfQ"
      },
      "source": [
        "Based on results, brand, condition and category show evidence of significant differences in their means. Colour and gender also appear to affect price differently but by nowhere near as close. Size does not appear to be meaningful."
      ]
    },
    {
      "cell_type": "markdown",
      "metadata": {
        "id": "YnK3KHkhM1MD"
      },
      "source": [
        "# Distribution Fit"
      ]
    },
    {
      "cell_type": "markdown",
      "metadata": {
        "id": "Tc38Qh0EQ-c2"
      },
      "source": [
        "Source code: https://github.com/samread81/Distribution-Fitting-Used_Car_Dataset/blob/master/Workbook.ipynb"
      ]
    },
    {
      "cell_type": "code",
      "metadata": {
        "id": "2txdYGzBNrMm"
      },
      "source": [
        "import re\n",
        "import pandas as pd\n",
        "import numpy as np\n",
        "# from mlutils import dataset, connector\n",
        "import scipy.stats\n",
        "from scipy.stats import *\n",
        "from sklearn.preprocessing import StandardScaler\n",
        "import math\n",
        "import matplotlib.pyplot as plt\n",
        "import warnings\n",
        "import statsmodels.api as sm \n",
        "import seaborn as sns\n",
        "import pylab as py \n",
        "warnings.filterwarnings('ignore')\n",
        "%matplotlib inline"
      ],
      "execution_count": null,
      "outputs": []
    },
    {
      "cell_type": "code",
      "metadata": {
        "id": "lnc6gT4zM33N"
      },
      "source": [
        "df = df1"
      ],
      "execution_count": null,
      "outputs": []
    },
    {
      "cell_type": "code",
      "metadata": {
        "id": "7LZcz3fuNFzY"
      },
      "source": [
        "def standarise(column,pct,pct_lower):\n",
        "    sc = StandardScaler() \n",
        "    y = df[column][df[column].notnull()].to_list()\n",
        "    y.sort()\n",
        "    len_y = len(y)\n",
        "    # y = y[int(pct_lower * len_y):int(len_y * pct)]\n",
        "    len_y = len(y)\n",
        "    yy=([[x] for x in y])\n",
        "    sc.fit(yy)\n",
        "    y_std =sc.transform(yy)\n",
        "    y_std = y_std.flatten()\n",
        "    return y_std,len_y,y"
      ],
      "execution_count": null,
      "outputs": []
    },
    {
      "cell_type": "code",
      "metadata": {
        "id": "Ikwryo9ENIFn"
      },
      "source": [
        "def fit_distribution(column,pct,pct_lower):\n",
        "    # Set up list of candidate distributions to use\n",
        "    # See https://docs.scipy.org/doc/scipy/reference/stats.html for more\n",
        "    y_std,size,y_org = standarise(column,pct,pct_lower)\n",
        "    dist_names = ['weibull_min','norm','weibull_max','beta',\n",
        "                 'invgauss','uniform','gamma','expon', 'lognorm','pearson3','triang']\n",
        "\n",
        "    chi_square_statistics = []\n",
        "    # 11 bins\n",
        "    percentile_bins = np.linspace(0,100,11)\n",
        "    percentile_cutoffs = np.percentile(y_std, percentile_bins)\n",
        "    observed_frequency, bins = (np.histogram(y_std, bins=percentile_cutoffs))\n",
        "    cum_observed_frequency = np.cumsum(observed_frequency)\n",
        "\n",
        "    # Loop through candidate distributions\n",
        "\n",
        "    for distribution in dist_names:\n",
        "        # Set up distribution and get fitted distribution parameters\n",
        "        dist = getattr(scipy.stats, distribution)\n",
        "        param = dist.fit(y_std)\n",
        "        print(\"{}\\n{}\\n\".format(dist, param))\n",
        "      \n",
        "\n",
        "        # Get expected counts in percentile bins\n",
        "        # cdf of fitted sistrinution across bins\n",
        "        cdf_fitted = dist.cdf(percentile_cutoffs, *param)\n",
        "        expected_frequency = []\n",
        "        for bin in range(len(percentile_bins)-1):\n",
        "            expected_cdf_area = cdf_fitted[bin+1] - cdf_fitted[bin]\n",
        "            expected_frequency.append(expected_cdf_area)\n",
        "\n",
        "        # Chi-square Statistics\n",
        "        expected_frequency = np.array(expected_frequency) * size\n",
        "        cum_expected_frequency = np.cumsum(expected_frequency)\n",
        "        ss = round(sum (((cum_expected_frequency - cum_observed_frequency) ** 2) / cum_observed_frequency),0)\n",
        "        chi_square_statistics.append(ss)\n",
        "\n",
        "\n",
        "    #Sort by minimum ch-square statistics\n",
        "    results = pd.DataFrame()\n",
        "    results['Distribution'] = dist_names\n",
        "    results['chi_square'] = chi_square_statistics\n",
        "    results.sort_values(['chi_square'], inplace=True)\n",
        "\n",
        "\n",
        "    print ('\\nDistributions listed by Betterment of fit:')\n",
        "    print ('............................................')\n",
        "    print (results)"
      ],
      "execution_count": null,
      "outputs": []
    },
    {
      "cell_type": "code",
      "metadata": {
        "colab": {
          "base_uri": "https://localhost:8080/"
        },
        "id": "C5QTURvxNKsb",
        "outputId": "a2899a41-8926-4bf3-e4fe-1483d42a2368"
      },
      "source": [
        "fit_distribution('price',0.99,0.01) # i.e. remove 1% of outliers on both ends"
      ],
      "execution_count": null,
      "outputs": [
        {
          "output_type": "stream",
          "text": [
            "<scipy.stats._continuous_distns.weibull_min_gen object at 0x7f8907640080>\n",
            "(1.056234804550547, -0.9930463001934385, 1.015439798297058)\n",
            "\n",
            "<scipy.stats._continuous_distns.norm_gen object at 0x7f8907db95c0>\n",
            "(-5.610701429814487e-17, 1.0)\n",
            "\n",
            "<scipy.stats._continuous_distns.weibull_max_gen object at 0x7f89076402b0>\n",
            "(0.573432975393999, 4.701402728818561, 1.4827786635409197)\n",
            "\n",
            "<scipy.stats._continuous_distns.beta_gen object at 0x7f8907db9cc0>\n",
            "(1.1581006671721998, 431947712280.9758, -0.9950471263466674, 371604978346.806)\n",
            "\n",
            "<scipy.stats._continuous_distns.invgauss_gen object at 0x7f89075f65f8>\n",
            "(0.82277481155473, -1.1300460704774546, 1.3734595257692603)\n",
            "\n",
            "<scipy.stats._continuous_distns.uniform_gen object at 0x7f89075d8c50>\n",
            "(-0.9921215139475154, 5.693524242766076)\n",
            "\n",
            "<scipy.stats._continuous_distns.gamma_gen object at 0x7f89075e3898>\n",
            "(0.8004957684883536, -0.9921215139475155, 1.1295173876801043)\n",
            "\n",
            "<scipy.stats._continuous_distns.expon_gen object at 0x7f890762bbe0>\n",
            "(-0.9921215139475154, 0.9921215139475152)\n",
            "\n",
            "<scipy.stats._continuous_distns.lognorm_gen object at 0x7f89076118d0>\n",
            "(0.8570159343958828, -1.075074383180526, 0.7535027344776462)\n",
            "\n",
            "<scipy.stats._continuous_distns.pearson3_gen object at 0x7f89075afd68>\n",
            "(1.855345059292726, -2.2079858401248545e-17, 0.9231620964831959)\n",
            "\n",
            "<scipy.stats._continuous_distns.triang_gen object at 0x7f89075c5eb8>\n",
            "(9.195495791730679e-10, -0.9921215242628877, 5.756226837646661)\n",
            "\n",
            "\n",
            "Distributions listed by Betterment of fit:\n",
            "............................................\n",
            "   Distribution  chi_square\n",
            "8       lognorm       195.0\n",
            "4      invgauss       218.0\n",
            "9      pearson3       497.0\n",
            "3          beta       505.0\n",
            "0   weibull_min       761.0\n",
            "7         expon      1279.0\n",
            "6         gamma      4514.0\n",
            "1          norm      6665.0\n",
            "10       triang      7142.0\n",
            "5       uniform     16228.0\n",
            "2   weibull_max     30558.0\n"
          ],
          "name": "stdout"
        }
      ]
    },
    {
      "cell_type": "code",
      "metadata": {
        "id": "ZAxgLLJtOEsx"
      },
      "source": [
        "y_std,len_y,y = standarise('price',0.99,0.01)"
      ],
      "execution_count": null,
      "outputs": []
    },
    {
      "cell_type": "code",
      "metadata": {
        "colab": {
          "base_uri": "https://localhost:8080/",
          "height": 296
        },
        "id": "LhLEyrtJOITl",
        "outputId": "5749b0cc-8b1b-477c-8665-f074814b7f18"
      },
      "source": [
        "plt.hist(y)\n",
        "plt.xlabel('Price')\n",
        "plt.ylabel('Frequency')"
      ],
      "execution_count": null,
      "outputs": [
        {
          "output_type": "execute_result",
          "data": {
            "text/plain": [
              "Text(0, 0.5, 'Frequency')"
            ]
          },
          "metadata": {
            "tags": []
          },
          "execution_count": 50
        },
        {
          "output_type": "display_data",
          "data": {
            "image/png": "[encoded data removed]",
            "text/plain": [
              "<Figure size 432x288 with 1 Axes>"
            ]
          },
          "metadata": {
            "tags": [],
            "needs_background": "light"
          }
        }
      ]
    },
    {
      "cell_type": "code",
      "metadata": {
        "colab": {
          "base_uri": "https://localhost:8080/",
          "height": 369
        },
        "id": "2-xzh6gkOMF1",
        "outputId": "ff5e8651-9499-49d0-c865-fc69727390ef"
      },
      "source": [
        "fig, axes = plt.subplots(nrows=1, ncols=3, figsize=(9, 5))\n",
        "axes[0].hist(y)\n",
        "axes[0].set_xlabel('Price\\n\\nHistogram plot of Oberseved Data')\n",
        "axes[0].set_ylabel('Frequency')\n",
        "axes[1].plot(y,lognorm.pdf(y_std,1,-1.4))\n",
        "axes[1].set_xlabel('Price\\n\\nLognormal Distribution')\n",
        "axes[1].set_ylabel('pdf')\n",
        "axes[2].plot(y,invgauss.pdf(y_std,0.45, -2,4))\n",
        "axes[2].set_xlabel('Price\\n\\nInverse-Gaussian Distribution')\n",
        "axes[2].set_ylabel('pdf')\n",
        "fig.tight_layout()"
      ],
      "execution_count": null,
      "outputs": [
        {
          "output_type": "display_data",
          "data": {
            "image/png": "[encoded data removed]",
            "text/plain": [
              "<Figure size 648x360 with 3 Axes>"
            ]
          },
          "metadata": {
            "tags": [],
            "needs_background": "light"
          }
        }
      ]
    }
  ]
}