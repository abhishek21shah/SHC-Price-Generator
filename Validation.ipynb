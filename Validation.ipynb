{
  "nbformat": 4,
  "nbformat_minor": 0,
  "metadata": {
    "colab": {
      "name": "Validation.ipynb",
      "provenance": [],
      "collapsed_sections": [
        "g7qTSm7vkRJm",
        "L8aoG4r9kZy-"
      ]
    },
    "kernelspec": {
      "name": "python3",
      "display_name": "Python 3"
    }
  },
  "cells": [
    {
      "cell_type": "code",
      "metadata": {
        "colab": {
          "base_uri": "https://localhost:8080/"
        },
        "id": "5LBuydnsf1j0",
        "outputId": "13d771c8-88db-43dc-aff3-0c3341ed31cb"
      },
      "source": [
        "from google.colab import drive\n",
        "drive.mount('/content/drive', force_remount=True)"
      ],
      "execution_count": null,
      "outputs": [
        {
          "output_type": "stream",
          "text": [
            "Mounted at /content/drive\n"
          ],
          "name": "stdout"
        }
      ]
    },
    {
      "cell_type": "code",
      "metadata": {
        "colab": {
          "base_uri": "https://localhost:8080/"
        },
        "id": "94uu7KFcgIbD",
        "outputId": "bb0a1257-3bc6-460a-f330-5ff9b7ea7fc5"
      },
      "source": [
        "import pandas as pd\n",
        "model_data = '/content/drive/My Drive/FYDP/Prototype - I1/model_data.csv'\n",
        "df = pd.read_csv(model_data)\n",
        "df.shape"
      ],
      "execution_count": null,
      "outputs": [
        {
          "output_type": "execute_result",
          "data": {
            "text/plain": [
              "(8105, 7)"
            ]
          },
          "metadata": {
            "tags": []
          },
          "execution_count": 2
        }
      ]
    },
    {
      "cell_type": "markdown",
      "metadata": {
        "id": "g7qTSm7vkRJm"
      },
      "source": [
        "# Columns to use"
      ]
    },
    {
      "cell_type": "code",
      "metadata": {
        "id": "it7lrpCTRami"
      },
      "source": [
        "def all_cols(df1):\n",
        "  #df1 = df\n",
        "  df1 = enc_cond(df1)\n",
        "  df1 = enc_gen(df1)\n",
        "  df1 = one_hot(df1, ['brand', 'size','colour','category-1'])\n",
        "  X = df1.drop('price', axis=1) # inputs\n",
        "  y = df1['price'] # output\n",
        "  # X_train, X_val, y_train, y_val = split_data(X, y, 3, 0.25) # split into 75/25\n",
        "  # X_val, X_test, y_val, y_test = split_data(X_val1, y_val1, 3, 0.4) # split into 15/10 \n",
        "  return X, y\n",
        "\n",
        "def no_colour(df1):\n",
        "  #df1 = df\n",
        "  df1 = df1.drop('colour', axis=1)\n",
        "  df1 = enc_cond(df1)\n",
        "  df1 = enc_gen(df1)\n",
        "  df1 = one_hot(df1, ['brand', 'size','category-1'])\n",
        "  # print(df1.head())\n",
        "  X = df1.drop('price', axis=1) # inputs\n",
        "  y = df1['price'] # output\n",
        "  # X_train, X_val, y_train, y_val = split_data(X, y, 3, 0.25) # split into 75/25\n",
        "  # X_val, X_test, y_val, y_test = split_data(X_val1, y_val1, 3, 0.4) # split into 15/10 \n",
        "  return X, y\n",
        "\n",
        "def no_gender(df1):\n",
        "  #df1 = df\n",
        "  df1 = df1.drop('gender', axis=1)\n",
        "  df1 = enc_cond(df1)\n",
        "  # df1 = enc_gen(df1)\n",
        "  df1 = one_hot(df1, ['brand', 'colour', 'size','category-1'])\n",
        "  X = df1.drop('price', axis=1) # inputs\n",
        "  y = df1['price'] # output\n",
        "  # X_train, X_val, y_train, y_val = split_data(X, y, 3, 0.25) # split into 75/25\n",
        "  # X_val, X_test, y_val, y_test = split_data(X_val1, y_val1, 3, 0.4) # split into 15/10 \n",
        "  return X, y\n",
        "\n",
        "def no_size(df1):\n",
        "  #df1 = df\n",
        "  df1 = df1.drop('size', axis=1)\n",
        "  df1 = enc_cond(df1)\n",
        "  df1 = enc_gen(df1)\n",
        "  df1 = one_hot(df1, ['brand', 'colour', 'category-1'])\n",
        "  X = df1.drop('price', axis=1) # inputs\n",
        "  y = df1['price'] # output\n",
        "  # X_train, X_val, y_train, y_val = split_data(X, y, 3, 0.25) # split into 75/25\n",
        "  # X_val, X_test, y_val, y_test = split_data(X_val1, y_val1, 3, 0.4) # split into 15/10 \n",
        "  return X, y\n",
        "\n",
        "def no_colour_size(df1):\n",
        "  #df1 = df\n",
        "  df1 = df1.drop(['colour','size'], axis=1)\n",
        "  df1 = enc_cond(df1)\n",
        "  df1 = enc_gen(df1)\n",
        "  df1 = one_hot(df1, ['brand', 'category-1'])\n",
        "  X = df1.drop('price', axis=1) # inputs\n",
        "  y = df1['price'] # output\n",
        "  # X_train, X_val, y_train, y_val = split_data(X, y, 3, 0.25) # split into 75/25\n",
        "  # X_val, X_test, y_val, y_test = split_data(X_val1, y_val1, 3, 0.4) # split into 15/10 \n",
        "  return X, y\n",
        "\n",
        "def no_colour_gender(df1):\n",
        "  #df1 = df\n",
        "  df1 = df1.drop(['colour','gender'], axis=1)\n",
        "  df1 = enc_cond(df1)\n",
        "  #df1 = enc_gen(df1)\n",
        "  df1 = one_hot(df1, ['brand', 'size','category-1'])\n",
        "  # print(df1.head())\n",
        "  X = df1.drop('price', axis=1) # inputs\n",
        "  y = df1['price'] # output\n",
        "  # X_train, X_val, y_train, y_val = split_data(X, y, 3, 0.25) # split into 75/25\n",
        "  # X_val, X_test, y_val, y_test = split_data(X_val1, y_val1, 3, 0.4) # split into 15/10 \n",
        "  return X, y\n",
        "\n",
        "def no_gender_size(df1):\n",
        "  #df1 = df\n",
        "  df1 = df1.drop(['gender','size'], axis=1)\n",
        "  df1 = enc_cond(df1)\n",
        "  #df1 = enc_gen(df1)\n",
        "  df1 = one_hot(df1, ['brand','colour', 'category-1'])\n",
        "  # print(df1.head())\n",
        "  X = df1.drop('price', axis=1) # inputs\n",
        "  y = df1['price'] # output\n",
        "  # X_train, X_val, y_train, y_val = split_data(X, y, 3, 0.25) # split into 75/25\n",
        "  # X_val, X_test, y_val, y_test = split_data(X_val1, y_val1, 3, 0.4) # split into 15/10 \n",
        "  return X, y\n",
        "\n",
        "# key cols = Brand, Condition, Category-1, Price\n",
        "def key_cols(df1):\n",
        "  #df1 = df\n",
        "  df1 = df1.drop(['colour','gender','size'], axis=1)\n",
        "  df1 = enc_cond(df1)\n",
        "  # df1 = enc_gen(df1)\n",
        "  df1 = one_hot(df1, ['brand', 'category-1'])\n",
        "  # print(df1.head())\n",
        "  X = df1.drop('price', axis=1) # inputs\n",
        "  y = df1['price'] # output\n",
        "  # X_train, X_val, y_train, y_val = split_data(X, y, 3, 0.25) # split into 75/25\n",
        "  # X_val, X_test, y_val, y_test = split_data(X_val1, y_val1, 3, 0.4) # split into 15/10 \n",
        "  return X, y"
      ],
      "execution_count": null,
      "outputs": []
    },
    {
      "cell_type": "code",
      "metadata": {
        "id": "YlhPfnThjWaB"
      },
      "source": [
        "# label encoding functions\n",
        "def enc_cond(df1):\n",
        "  label_enc_condition = {'Satisfactory':1, 'Good':2, 'Very good':3, 'New without tags':4, 'New with tags':5}\n",
        "  df1 = df1.replace({\"condition\": label_enc_condition})\n",
        "  return df1\n",
        "def enc_gen(df1):\n",
        "  label_enc_gender = {'men':0, 'women':1}\n",
        "  df1 = df1.replace({\"gender\": label_enc_gender})\n",
        "  return df1\n",
        "\n",
        "# one hot encoding function\n",
        "def one_hot(df1, cols):\n",
        "  df1 = pd.get_dummies(df1, columns=cols)\n",
        "  return df1"
      ],
      "execution_count": null,
      "outputs": []
    },
    {
      "cell_type": "markdown",
      "metadata": {
        "id": "L8aoG4r9kZy-"
      },
      "source": [
        "# Test split and Kfold"
      ]
    },
    {
      "cell_type": "code",
      "metadata": {
        "id": "L28c_LItjYE-"
      },
      "source": [
        "from sklearn.model_selection import train_test_split\n",
        "def split_data(X, y, seed, split_size):\n",
        "  seed = seed\n",
        "  X_train, X_test, y_train, y_test = train_test_split(X, y, test_size=split_size, random_state=seed)\n",
        "  return  X_train, X_test, y_train, y_test"
      ],
      "execution_count": null,
      "outputs": []
    },
    {
      "cell_type": "code",
      "metadata": {
        "id": "auQivtFPj50W"
      },
      "source": [
        "from sklearn.metrics import mean_squared_error as mse\n",
        "from tabulate import tabulate\n",
        "from sklearn.model_selection import KFold\n",
        "from sklearn.model_selection import cross_val_score\n",
        "cv = KFold(n_splits=10, random_state=1, shuffle=True)"
      ],
      "execution_count": null,
      "outputs": []
    },
    {
      "cell_type": "markdown",
      "metadata": {
        "id": "3FyAwIy-kgUu"
      },
      "source": [
        "# Plug and Chug all the models and do train/test split and kfold"
      ]
    },
    {
      "cell_type": "code",
      "metadata": {
        "id": "5vs5GaZPg7m4"
      },
      "source": [
        "from sklearn.linear_model import LinearRegression\n",
        "from sklearn.linear_model import Ridge\n",
        "from sklearn.linear_model import Lasso\n",
        "from sklearn.neighbors import KNeighborsRegressor\n",
        "from sklearn.ensemble import RandomForestRegressor\n",
        "\n",
        "clf_lr = LinearRegression()\n",
        "clf_ridge = Ridge(alpha=1.2,  max_iter=100)\n",
        "clf_lasso = Lasso()\n",
        "clf_knn = KNeighborsRegressor(n_neighbors=9)\n",
        "clf_rf = RandomForestRegressor(n_estimators = 100, random_state = 42)"
      ],
      "execution_count": null,
      "outputs": []
    },
    {
      "cell_type": "code",
      "metadata": {
        "id": "IMomd-Z_iMYn"
      },
      "source": [
        "def val(clf_lr):\n",
        "  dfs = [all_cols, no_colour, no_gender, no_size, no_colour_size, no_colour_gender, no_gender_size, key_cols]\n",
        "  r2 = []\n",
        "  adj_r2 = []\n",
        "  mses = []\n",
        "  cross_val = []\n",
        "  cross_val_mean = []\n",
        "  for i in dfs:\n",
        "    df1 = df\n",
        "    X, y = i(df1)\n",
        "    X_train, X_val, y_train, y_val = split_data(X, y, 3, 0.25)\n",
        "    clf_lr.fit(X_train, y_train)\n",
        "    y_predict = clf_lr.predict(X_val)\n",
        "    r2_score = clf_lr.score(X_val, y_val)\n",
        "    r2.append(r2_score)\n",
        "    a_r2 = 1 - (1-r2_score) * ((len(y_val) - 1) / (len(y_val) -  X_val.shape[1] - 1))\n",
        "    adj_r2.append(a_r2)\n",
        "    mses.append(mse(y_val, y_predict))\n",
        "\n",
        "    cvScore = cross_val_score(clf_lr, X, y, cv = cv, scoring='r2')\n",
        "    cross_val.append(\"%0.2f (+/- %0.2f)\" % (cvScore.mean(), cvScore.std() * 2))\n",
        "\n",
        "    mean_score = cross_val_score(clf_lr, X, y, cv = cv, scoring='neg_mean_squared_error')\n",
        "    cross_val_mean.append(\"%0.2f\" % (abs(mean_score.mean())))\n",
        "  dfs_names = ['all_features', 'no_colour', 'no_gender', 'no_size', 'no_colour_size', 'no_colour_gender', 'no_gender_size', 'no_gender_size_colour']\n",
        "  headers = ['Features Included', 'R^2 Score using Test/Train', 'Adjusted R^2 Score using Test/Train', 'Mean Squared Error', 'R^2 Score using Cross_Validation', 'Mean']\n",
        "  table = zip(dfs_names, r2, adj_r2, mses, cross_val, cross_val_mean)\n",
        "  print(tabulate(table, headers=headers))\n",
        "  return [y_val, y_predict]"
      ],
      "execution_count": null,
      "outputs": []
    },
    {
      "cell_type": "code",
      "metadata": {
        "colab": {
          "base_uri": "https://localhost:8080/"
        },
        "id": "NkbEL6VImywU",
        "outputId": "4a9d8d25-7d3d-4275-c50a-93ce540d9be8"
      },
      "source": [
        "lr_y_values = val(clf_lr)"
      ],
      "execution_count": null,
      "outputs": [
        {
          "output_type": "stream",
          "text": [
            "Features Included        R^2 Score using Test/Train    Adjusted R^2 Score using Test/Train    Mean Squared Error  R^2 Score using Cross_Validation      Mean\n",
            "---------------------  ----------------------------  -------------------------------------  --------------------  ----------------------------------  ------\n",
            "all_features                               0.250266                               0.214601               231.146  0.26 (+/- 0.05)                     224.43\n",
            "no_colour                                  0.251951                               0.221599               230.626  0.26 (+/- 0.05)                     224.22\n",
            "no_gender                                  0.239035                               0.203248               234.608  0.25 (+/- 0.05)                     227.51\n",
            "no_size                                    0.250234                               0.215784               231.156  0.26 (+/- 0.05)                     224.26\n",
            "no_colour_size                             0.25224                                0.223096               230.537  0.26 (+/- 0.05)                     223.99\n",
            "no_colour_gender                           0.242571                               0.212242               233.518  0.25 (+/- 0.05)                     227.46\n",
            "no_gender_size                             0.239959                               0.205448               234.323  0.25 (+/- 0.04)                     227.62\n",
            "no_gender_size_colour                      0.242539                               0.213421               233.528  0.25 (+/- 0.04)                     227.59\n"
          ],
          "name": "stdout"
        }
      ]
    },
    {
      "cell_type": "code",
      "metadata": {
        "colab": {
          "base_uri": "https://localhost:8080/"
        },
        "id": "XlHLFfZmm5g_",
        "outputId": "0cd0c190-c659-4f49-e47a-d4a0fc440ef6"
      },
      "source": [
        "ridge_y_values = val(clf_ridge)"
      ],
      "execution_count": null,
      "outputs": [
        {
          "output_type": "stream",
          "text": [
            "Features Included        R^2 Score using Test/Train    Adjusted R^2 Score using Test/Train    Mean Squared Error  R^2 Score using Cross_Validation      Mean\n",
            "---------------------  ----------------------------  -------------------------------------  --------------------  ----------------------------------  ------\n",
            "all_features                               0.25019                                0.214522               231.169  0.26 (+/- 0.05)                     223.99\n",
            "no_colour                                  0.252107                               0.221761               230.578  0.26 (+/- 0.05)                     223.93\n",
            "no_gender                                  0.240217                               0.204486               234.244  0.25 (+/- 0.05)                     227.29\n",
            "no_size                                    0.250375                               0.215932               231.112  0.26 (+/- 0.05)                     223.9\n",
            "no_colour_size                             0.252314                               0.223174               230.514  0.26 (+/- 0.05)                     223.84\n",
            "no_colour_gender                           0.242653                               0.212328               233.493  0.25 (+/- 0.05)                     227.25\n",
            "no_gender_size                             0.240267                               0.205769               234.229  0.25 (+/- 0.04)                     227.46\n",
            "no_gender_size_colour                      0.242824                               0.213717               233.44   0.25 (+/- 0.04)                     227.46\n"
          ],
          "name": "stdout"
        }
      ]
    },
    {
      "cell_type": "code",
      "metadata": {
        "colab": {
          "base_uri": "https://localhost:8080/",
          "height": 553
        },
        "id": "OpX5H1rxjFmF",
        "outputId": "4560e527-188c-40ae-bfba-4750ade49a26"
      },
      "source": [
        "df_reg = pd.DataFrame({'Actual Price' : lr_y_values[0], 'LR Price': lr_y_values[1], 'Ridge Price': ridge_y_values[1]})#, 'KNN Price': knn_y_values[1]})\n",
        "df_reg1 = df_reg.head(25)\n",
        "import matplotlib.pyplot as plt\n",
        "plt.rcParams.update({'font.size': 15})\n",
        "df_reg1.plot(kind='bar',figsize=(10,8))\n",
        "plt.grid(which='major', linestyle='-', linewidth='0.5', color='grey')\n",
        "plt.grid(which='minor', linestyle=':', linewidth='0.5', color='black')\n",
        "plt.xlabel('Item Index', fontsize=18) \n",
        "plt.ylabel('Price', fontsize=18) \n",
        "plt.title('Comparision of first 25 predictions between Regression Models', fontsize=18)\n",
        "plt.show()"
      ],
      "execution_count": null,
      "outputs": [
        {
          "output_type": "display_data",
          "data": {
            "image/png": "[encoded data removed]",
            "text/plain": [
              "<Figure size 720x576 with 1 Axes>"
            ]
          },
          "metadata": {
            "tags": [],
            "needs_background": "light"
          }
        }
      ]
    },
    {
      "cell_type": "code",
      "metadata": {
        "colab": {
          "base_uri": "https://localhost:8080/"
        },
        "id": "F-0TP-tGm76A",
        "outputId": "e48223f3-d032-41a3-a7ef-b88fa97a7ecb"
      },
      "source": [
        "val(clf_lasso)"
      ],
      "execution_count": null,
      "outputs": [
        {
          "output_type": "stream",
          "text": [
            "Features Included        R^2 Score using Test/Train    Adjusted R^2 Score using Test/Train    Mean Squared Error  R^2 Score using Cross_Validation\n",
            "---------------------  ----------------------------  -------------------------------------  --------------------  ----------------------------------\n",
            "all_features                               0.101861                              0.059137                  276.9  0.10 (+/- 0.03)\n",
            "no_colour                                  0.101861                              0.0654191                 276.9  0.10 (+/- 0.03)\n",
            "no_gender                                  0.101861                              0.0596232                 276.9  0.10 (+/- 0.03)\n",
            "no_size                                    0.101861                              0.0605942                 276.9  0.10 (+/- 0.03)\n",
            "no_colour_size                             0.101861                              0.0668569                 276.9  0.10 (+/- 0.03)\n",
            "no_colour_gender                           0.101861                              0.0658988                 276.9  0.10 (+/- 0.03)\n",
            "no_gender_size                             0.101861                              0.0610789                 276.9  0.10 (+/- 0.03)\n",
            "no_gender_size_colour                      0.101861                              0.0673352                 276.9  0.10 (+/- 0.03)\n"
          ],
          "name": "stdout"
        }
      ]
    },
    {
      "cell_type": "code",
      "metadata": {
        "colab": {
          "base_uri": "https://localhost:8080/"
        },
        "id": "6didoMXjm_Co",
        "outputId": "1bbbd62a-8682-4910-dbda-d6790c85ac13"
      },
      "source": [
        "knn_y_values = val(clf_knn)"
      ],
      "execution_count": null,
      "outputs": [
        {
          "output_type": "stream",
          "text": [
            "Features Included        R^2 Score using Test/Train    Adjusted R^2 Score using Test/Train    Mean Squared Error  R^2 Score using Cross_Validation      Mean\n",
            "---------------------  ----------------------------  -------------------------------------  --------------------  ----------------------------------  ------\n",
            "all_features                               0.169183                               0.129661               256.144  0.18 (+/- 0.07)                     247.49\n",
            "no_colour                                  0.194734                               0.16206                248.267  0.18 (+/- 0.07)                     248.32\n",
            "no_gender                                  0.15114                                0.111219               261.707  0.15 (+/- 0.08)                     256.85\n",
            "no_size                                    0.167558                               0.129309               256.645  0.18 (+/- 0.06)                     246.73\n",
            "no_colour_size                             0.215879                               0.185318               241.747  0.19 (+/- 0.07)                     245.71\n",
            "no_colour_gender                           0.170444                               0.137227               255.755  0.16 (+/- 0.08)                     253.88\n",
            "no_gender_size                             0.163819                               0.12585                257.798  0.15 (+/- 0.08)                     255.32\n",
            "no_gender_size_colour                      0.183055                               0.15165                251.867  0.18 (+/- 0.08)                     248.54\n"
          ],
          "name": "stdout"
        }
      ]
    },
    {
      "cell_type": "code",
      "metadata": {
        "colab": {
          "base_uri": "https://localhost:8080/"
        },
        "id": "FWjevHMjnCCA",
        "outputId": "e2aa729a-cd21-49e6-887c-311d717ad43e"
      },
      "source": [
        "val(clf_rf)"
      ],
      "execution_count": null,
      "outputs": [
        {
          "output_type": "stream",
          "text": [
            "Features Included        R^2 Score using Test/Train    Adjusted R^2 Score using Test/Train    Mean Squared Error  R^2 Score using Cross_Validation\n",
            "---------------------  ----------------------------  -------------------------------------  --------------------  ----------------------------------\n",
            "all_features                               0.183243                               0.14439                251.809  0.16 (+/- 0.07)\n",
            "no_colour                                  0.220413                               0.188781               240.35   0.21 (+/- 0.07)\n",
            "no_gender                                  0.143374                               0.103088               264.101  0.15 (+/- 0.08)\n",
            "no_size                                    0.190265                               0.153059               249.644  0.18 (+/- 0.07)\n",
            "no_colour_size                             0.234918                               0.205099               235.878  0.23 (+/- 0.07)\n",
            "no_colour_gender                           0.202013                               0.170061               246.022  0.21 (+/- 0.06)\n",
            "no_gender_size                             0.172837                               0.135277               255.018  0.17 (+/- 0.08)\n",
            "no_gender_size_colour                      0.221258                               0.191321               240.089  0.23 (+/- 0.07)\n"
          ],
          "name": "stdout"
        }
      ]
    },
    {
      "cell_type": "code",
      "metadata": {
        "id": "XSTNKBBbGmOh"
      },
      "source": [
        "from sklearn.model_selection import GridSearchCV\n",
        "from sklearn.model_selection import RandomizedSearchCV\n",
        "df1 = df\n",
        "X, y = all_cols(df1)\n",
        "X_train, X_test, y_train, y_test = train_test_split(X, y, test_size=0.25, random_state=3)"
      ],
      "execution_count": null,
      "outputs": []
    },
    {
      "cell_type": "code",
      "metadata": {
        "id": "J9LYdf26G6GR"
      },
      "source": [
        "leaf_size = list(range(30,35))\n",
        "n_neighbors = list(range(20,27))\n",
        "p = [1,2]\n",
        "algorithm = ['auto', 'ball_tree', 'kd_tree', 'brute']\n",
        "#Convert to dictionary\n",
        "hyperparameters = dict(leaf_size = leaf_size, n_neighbors = n_neighbors, p = p)#, algorithm = algorithm)"
      ],
      "execution_count": null,
      "outputs": []
    },
    {
      "cell_type": "code",
      "metadata": {
        "colab": {
          "base_uri": "https://localhost:8080/"
        },
        "id": "e3DIc6J1Itg9",
        "outputId": "f5e62470-d1ee-457a-92a8-acb5bcd9ad5f"
      },
      "source": [
        "knn_2 = KNeighborsRegressor()\n",
        "clf = GridSearchCV(knn_2, hyperparameters)\n",
        "# Fit the model\n",
        "best_model = clf.fit(X_train,y_train)\n",
        "# Print The value of best Hyperparameters\n",
        "print('Best leaf_size:', best_model.best_estimator_.get_params()['leaf_size'])\n",
        "print('Best p:', best_model.best_estimator_.get_params()['p'])\n",
        "print('Best n_neighbors:', best_model.best_estimator_.get_params()['n_neighbors'])"
      ],
      "execution_count": null,
      "outputs": [
        {
          "output_type": "stream",
          "text": [
            "Best leaf_size: 30\n",
            "Best p: 2\n",
            "Best n_neighbors: 26\n"
          ],
          "name": "stdout"
        }
      ]
    },
    {
      "cell_type": "code",
      "metadata": {
        "colab": {
          "base_uri": "https://localhost:8080/"
        },
        "id": "JWbunFOdN_Gb",
        "outputId": "eaa0cd85-c609-401a-8136-b82b468f248e"
      },
      "source": [
        "neigh = KNeighborsRegressor(n_neighbors=26, p=2, leaf_size=30)\n",
        "neigh.fit(X_train, y_train)\n",
        "y_predict = neigh.predict(X_test)\n",
        "mse(y_test, y_predict)"
      ],
      "execution_count": null,
      "outputs": [
        {
          "output_type": "execute_result",
          "data": {
            "text/plain": [
              "248.38001182964885"
            ]
          },
          "metadata": {
            "tags": []
          },
          "execution_count": 29
        }
      ]
    },
    {
      "cell_type": "code",
      "metadata": {
        "colab": {
          "base_uri": "https://localhost:8080/"
        },
        "id": "o2jYQlpvLoHu",
        "outputId": "07556eba-84c8-42b1-fe76-9ebbc02c8f15"
      },
      "source": [
        "knn_3 = KNeighborsRegressor()\n",
        "clf_ran = RandomizedSearchCV(knn_3, hyperparameters)\n",
        "best_model_ran = clf_ran.fit(X_train,y_train)\n",
        "print('Best leaf_size:', best_model_ran.best_estimator_.get_params()['leaf_size'])\n",
        "print('Best p:', best_model_ran.best_estimator_.get_params()['p'])\n",
        "print('Best n_neighbors:', best_model_ran.best_estimator_.get_params()['n_neighbors'])"
      ],
      "execution_count": null,
      "outputs": [
        {
          "output_type": "stream",
          "text": [
            "Best leaf_size: 30\n",
            "Best p: 2\n",
            "Best n_neighbors: 25\n"
          ],
          "name": "stdout"
        }
      ]
    },
    {
      "cell_type": "code",
      "metadata": {
        "colab": {
          "base_uri": "https://localhost:8080/"
        },
        "id": "2ClXwMSdN9XX",
        "outputId": "4918062d-5bde-42e8-d6a1-b60227b346ef"
      },
      "source": [
        "neigh = KNeighborsRegressor(n_neighbors=25, p=2, leaf_size=30)\n",
        "neigh.fit(X_train, y_train)\n",
        "y_predict = neigh.predict(X_test)\n",
        "mse(y_test, y_predict)"
      ],
      "execution_count": null,
      "outputs": [
        {
          "output_type": "execute_result",
          "data": {
            "text/plain": [
              "247.74059816359156"
            ]
          },
          "metadata": {
            "tags": []
          },
          "execution_count": 30
        }
      ]
    }
  ]
}